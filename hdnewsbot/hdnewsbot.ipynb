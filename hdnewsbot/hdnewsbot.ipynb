{
 "cells": [
  {
   "cell_type": "markdown",
   "id": "8c2e3be3",
   "metadata": {},
   "source": [
    "# Cria um bot do Telegram de noticias"
   ]
  },
  {
   "cell_type": "markdown",
   "id": "58a018ff",
   "metadata": {},
   "source": [
    "Bot manchetes do google"
   ]
  },
  {
   "cell_type": "markdown",
   "id": "bf2534dd",
   "metadata": {},
   "source": [
    "## Criar o um canal de noticias manualmente no telegram"
   ]
  },
  {
   "cell_type": "markdown",
   "id": "457c34f9",
   "metadata": {},
   "source": [
    "Após baixar o aplicativo do telegram e cria uma conta, necessário clicar no botão de nova mensagem e selecionar a opção 'Novo Canal', preencher as informações devidamente até finalizar a criação.\n",
    "\n",
    "Novamente em nova mensagem, busque por '@BotFather', clica na opção verificada e siga as instruções.\n",
    "\n",
    "Iniciar o bot:\n",
    "\n",
    "`/start`\n",
    "\n",
    "Criar novo bot:\n",
    "\n",
    "`/newbot`\n",
    "\n",
    "Responda com o nome do bot segundo as regras, por exemplo hd_news_bot no meu caso, caso o nome de usuário esteja em uso será notificado, após ter o nome do bot aprovado, o telegram envia um token para acesso da api. \n"
   ]
  },
  {
   "cell_type": "markdown",
   "id": "93bc5ae3",
   "metadata": {},
   "source": [
    "## Baixar libs"
   ]
  },
  {
   "cell_type": "markdown",
   "id": "24b22b7e",
   "metadata": {},
   "source": [
    "Em hambiente python, baixe as seguintes bibliotecas a baixo:"
   ]
  },
  {
   "cell_type": "code",
   "execution_count": 1,
   "id": "e330abcc",
   "metadata": {},
   "outputs": [
    {
     "name": "stdout",
     "output_type": "stream",
     "text": [
      "Requirement already satisfied: beautifulsoup4 in c:\\users\\hari.moura\\anaconda3\\lib\\site-packages (4.10.0)\n",
      "Requirement already satisfied: bs4 in c:\\users\\hari.moura\\anaconda3\\lib\\site-packages (0.0.1)\n",
      "Requirement already satisfied: lxml in c:\\users\\hari.moura\\anaconda3\\lib\\site-packages (4.6.3)\n",
      "Requirement already satisfied: requests in c:\\users\\hari.moura\\anaconda3\\lib\\site-packages (2.26.0)\n",
      "Requirement already satisfied: urllib3 in c:\\users\\hari.moura\\anaconda3\\lib\\site-packages (1.26.7)\n",
      "Requirement already satisfied: python-telegram-bot in c:\\users\\hari.moura\\anaconda3\\lib\\site-packages (13.11)\n",
      "Requirement already satisfied: soupsieve>1.2 in c:\\users\\hari.moura\\anaconda3\\lib\\site-packages (from beautifulsoup4) (2.2.1)\n",
      "Requirement already satisfied: certifi>=2017.4.17 in c:\\users\\hari.moura\\anaconda3\\lib\\site-packages (from requests) (2021.10.8)\n",
      "Requirement already satisfied: charset-normalizer~=2.0.0 in c:\\users\\hari.moura\\anaconda3\\lib\\site-packages (from requests) (2.0.4)\n",
      "Requirement already satisfied: idna<4,>=2.5 in c:\\users\\hari.moura\\anaconda3\\lib\\site-packages (from requests) (3.2)\n",
      "Requirement already satisfied: pytz>=2018.6 in c:\\users\\hari.moura\\anaconda3\\lib\\site-packages (from python-telegram-bot) (2021.3)\n",
      "Requirement already satisfied: APScheduler==3.6.3 in c:\\users\\hari.moura\\anaconda3\\lib\\site-packages (from python-telegram-bot) (3.6.3)\n",
      "Requirement already satisfied: cachetools==4.2.2 in c:\\users\\hari.moura\\anaconda3\\lib\\site-packages (from python-telegram-bot) (4.2.2)\n",
      "Requirement already satisfied: tornado>=6.1 in c:\\users\\hari.moura\\anaconda3\\lib\\site-packages (from python-telegram-bot) (6.1)\n",
      "Requirement already satisfied: setuptools>=0.7 in c:\\users\\hari.moura\\anaconda3\\lib\\site-packages (from APScheduler==3.6.3->python-telegram-bot) (58.0.4)\n",
      "Requirement already satisfied: tzlocal>=1.2 in c:\\users\\hari.moura\\anaconda3\\lib\\site-packages (from APScheduler==3.6.3->python-telegram-bot) (4.2)\n",
      "Requirement already satisfied: six>=1.4.0 in c:\\users\\hari.moura\\anaconda3\\lib\\site-packages (from APScheduler==3.6.3->python-telegram-bot) (1.16.0)\n",
      "Requirement already satisfied: pytz-deprecation-shim in c:\\users\\hari.moura\\anaconda3\\lib\\site-packages (from tzlocal>=1.2->APScheduler==3.6.3->python-telegram-bot) (0.1.0.post0)\n",
      "Requirement already satisfied: tzdata in c:\\users\\hari.moura\\anaconda3\\lib\\site-packages (from tzlocal>=1.2->APScheduler==3.6.3->python-telegram-bot) (2022.1)\n",
      "Note: you may need to restart the kernel to use updated packages.\n"
     ]
    }
   ],
   "source": [
    "pip install beautifulsoup4 bs4 lxml requests urllib3 python-telegram-bot"
   ]
  },
  {
   "cell_type": "markdown",
   "id": "f4ca363f",
   "metadata": {},
   "source": [
    "### Importa as bibliotecas"
   ]
  },
  {
   "cell_type": "markdown",
   "id": "f3a1c627",
   "metadata": {},
   "source": [
    "Partindo para o código, importe a bibliotecas instaladas"
   ]
  },
  {
   "cell_type": "code",
   "execution_count": 85,
   "id": "3d102a44",
   "metadata": {},
   "outputs": [],
   "source": [
    "import requests\n",
    "import telegram\n",
    "from bs4 import BeautifulSoup\n"
   ]
  },
  {
   "cell_type": "markdown",
   "id": "a4373a04",
   "metadata": {},
   "source": [
    "### Criar o crawler com BeautifulSoup"
   ]
  },
  {
   "cell_type": "markdown",
   "id": "63d63079",
   "metadata": {},
   "source": [
    "Cria função para iterar entre os elemnetos e extrair as noticias"
   ]
  },
  {
   "cell_type": "code",
   "execution_count": 83,
   "id": "65cbab22",
   "metadata": {},
   "outputs": [],
   "source": [
    "def get_news_from_el(elements):\n",
    "    news = []\n",
    "    \n",
    "    for el in elements:\n",
    "\n",
    "        news_el = el.findChildren(\"article\" , recursive=False)[0]\n",
    "        text_el = news_el.findChildren(\"h3\" , recursive=False)[0]\n",
    "        a = text_el.findChildren(\"a\" , recursive=False)[0]\n",
    "\n",
    "        if a:\n",
    "            try:\n",
    "                link = 'https://news.google.com/'+a.attrs[\"href\"]\n",
    "\n",
    "                text = a.string.strip()\n",
    "\n",
    "                if link and text:\n",
    "                    news.append({\n",
    "                        \"link\" : link,\n",
    "                        \"text\" : text\n",
    "                    })\n",
    "\n",
    "            except Exception as e:\n",
    "                print(e)\n",
    "\n",
    "    return news"
   ]
  },
  {
   "cell_type": "markdown",
   "id": "ff7d6a7f",
   "metadata": {},
   "source": [
    "Cria função para pegar as noticias na web"
   ]
  },
  {
   "cell_type": "code",
   "execution_count": 81,
   "id": "2597a8f3",
   "metadata": {},
   "outputs": [],
   "source": [
    "def get_news_from_url(start_url):\n",
    "    response = requests.get(start_url)\n",
    "    soup = BeautifulSoup(response.text, 'lxml')\n",
    "    \n",
    "    elements = soup.find_all(attrs={\"class\" : \"xrnccd F6Welf R7GTQ keNKEd j7vNaf\"})#get a topic\n",
    "#     print(elements)\n",
    "    return get_news_from_el(elements)\n",
    "    "
   ]
  },
  {
   "cell_type": "markdown",
   "id": "926f8e3f",
   "metadata": {},
   "source": [
    "Função para montar a mensagem com as noticias"
   ]
  },
  {
   "cell_type": "code",
   "execution_count": 80,
   "id": "4c5f7280",
   "metadata": {},
   "outputs": [],
   "source": [
    "def get_msg(data):\n",
    "    msg= \"\\n\\n\\n\"\n",
    "    for item in data:\n",
    "        text = item[\"text\"]\n",
    "        link = item[\"link\"]\n",
    "        \n",
    "        msg += text +' [<a href=\"' + link + '\">source</a>]'\n",
    "        msg += \"\\n\\n\"\n",
    "    return msg"
   ]
  },
  {
   "cell_type": "markdown",
   "id": "e0a1ca57",
   "metadata": {},
   "source": [
    "Executar o crawler e envia a mensagen montada para o canal por meio do Bot"
   ]
  },
  {
   "cell_type": "code",
   "execution_count": 84,
   "id": "c7820579",
   "metadata": {
    "scrolled": true
   },
   "outputs": [
    {
     "name": "stdout",
     "output_type": "stream",
     "text": [
      "\n",
      "\n",
      "\n",
      "Guedes diz que 'inferno' da inflação passou e que é 'natural' ele seguir no cargo se Bolsonaro for reeleito [<a href=\"https://news.google.com/./articles/CBMingFodHRwczovL2cxLmdsb2JvLmNvbS9lY29ub21pYS9ub3RpY2lhLzIwMjIvMDUvMTkvZ3VlZGVzLWRpei1xdWUtaW5mZXJuby1kYS1pbmZsYWNhby1wYXNzb3UtZS1xdWUtZS1uYXR1cmFsLWVsZS1zZWd1aXItbm8tY2FyZ28tc2UtYm9sc29uYXJvLWZvci1yZWVsZWl0by5naHRtbNIBqQFodHRwczovL2cxLmdsb2JvLmNvbS9nb29nbGUvYW1wL2Vjb25vbWlhL25vdGljaWEvMjAyMi8wNS8xOS9ndWVkZXMtZGl6LXF1ZS1pbmZlcm5vLWRhLWluZmxhY2FvLXBhc3NvdS1lLXF1ZS1lLW5hdHVyYWwtZWxlLXNlZ3Vpci1uby1jYXJnby1zZS1ib2xzb25hcm8tZm9yLXJlZWxlaXRvLmdodG1s?hl=pt-BR&gl=BR&ceid=BR%3Apt-419\">source</a>]\n",
      "\n",
      "Athayde Petreyze: o enlace de Lula e Janja | Coluna do Polzonoff [<a href=\"https://news.google.com/./articles/CAIiEHGa6c01f8cAqV6BsEQ4OOQqGQgEKhAIACoHCAow7IWOCzDk1qADMP6p7wY?hl=pt-BR&gl=BR&ceid=BR%3Apt-419\">source</a>]\n",
      "\n",
      "Professora é assassinada pelo marido e enterrada no quintal de casa [<a href=\"https://news.google.com/./articles/CAIiEEs4I9ecaOlkPjc-ArzU-Y4qGQgEKhAIACoHCAow9-r6CjCyvvICMIz29QU?hl=pt-BR&gl=BR&ceid=BR%3Apt-419\">source</a>]\n",
      "\n",
      "Sugestões das Forças Armadas sobre eleições não serão jogadas no lixo, diz Bolsonaro [<a href=\"https://news.google.com/./articles/CAIiEIQBQ-6fP55bawGwbgi2LiEqGQgEKhAIACoHCAowrIaYCzCTsK8DMPK18QY?hl=pt-BR&gl=BR&ceid=BR%3Apt-419\">source</a>]\n",
      "\n",
      "Presidentes do MDB, PSDB e Cidadania escolhem Tebet como candidata da 3ª via [<a href=\"https://news.google.com/./articles/CAIiED4Ro9thE-sBnJNYXNJ9rSUqGQgEKhAIACoHCAow9rr5CjD-4fECMLDG5QU?hl=pt-BR&gl=BR&ceid=BR%3Apt-419\">source</a>]\n",
      "\n",
      "Turquia veta pedido de adesão de Finlândia e Suécia à Otan [<a href=\"https://news.google.com/./articles/CAIiEO6pEEMeFz2BCsz-AAmDU7YqGQgEKhAIACoHCAowmvOrCzCX_sMDMKCXqgc?hl=pt-BR&gl=BR&ceid=BR%3Apt-419\">source</a>]\n",
      "\n",
      "\n"
     ]
    }
   ],
   "source": [
    "news_token = ''#insert your token here, or implement a config file to import\n",
    "# \n",
    "news_bot = telegram.Bot(token=news_token)#authorize telegam bot\n",
    "#\n",
    "msg = get_msg(get_news_from_url(\"https://news.google.com/topstories?hl=pt-BR&gl=BR&ceid=BR:pt-419\"))\n",
    "#\n",
    "status = news_bot.send_message(chat_id=\"@hdnewsbot\", text=msg , parse_mode=telegram.ParseMode.HTML)\n",
    "print(msg)"
   ]
  },
  {
   "cell_type": "code",
   "execution_count": null,
   "id": "c2521462",
   "metadata": {},
   "outputs": [],
   "source": []
  },
  {
   "cell_type": "code",
   "execution_count": null,
   "id": "7571df33",
   "metadata": {},
   "outputs": [],
   "source": []
  }
 ],
 "metadata": {
  "kernelspec": {
   "display_name": "Python 3 (ipykernel)",
   "language": "python",
   "name": "python3"
  },
  "language_info": {
   "codemirror_mode": {
    "name": "ipython",
    "version": 3
   },
   "file_extension": ".py",
   "mimetype": "text/x-python",
   "name": "python",
   "nbconvert_exporter": "python",
   "pygments_lexer": "ipython3",
   "version": "3.9.7"
  }
 },
 "nbformat": 4,
 "nbformat_minor": 5
}
